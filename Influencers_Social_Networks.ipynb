{
  "metadata": {
    "kernelspec": {
      "language": "python",
      "display_name": "Python 3",
      "name": "python3"
    },
    "language_info": {
      "name": "python",
      "version": "3.6.6",
      "mimetype": "text/x-python",
      "codemirror_mode": {
        "name": "ipython",
        "version": 3
      },
      "pygments_lexer": "ipython3",
      "nbconvert_exporter": "python",
      "file_extension": ".py"
    },
    "colab": {
      "provenance": []
    }
  },
  "nbformat_minor": 0,
  "nbformat": 4,
  "cells": [
    {
      "cell_type": "code",
      "source": [
        "import numpy as np\n",
        "import pylab as pl\n",
        "import pandas as pd\n",
        "import matplotlib.pyplot as plt\n",
        "%matplotlib inline\n",
        "import seaborn as sns\n",
        "from sklearn.utils import shuffle\n",
        "from sklearn.svm import SVC\n",
        "from sklearn.metrics import confusion_matrix,classification_report\n",
        "from sklearn.model_selection import cross_val_score, GridSearchCV\n",
        "# Input data files are available in the \"../input/\" directory.\n",
        "# For example, running this (by clicking run or pressing Shift+Enter) will list the files in the input directory\n",
        "# Any results you write to the current directory are saved as output."
      ],
      "metadata": {
        "_cell_guid": "b1076dfc-b9ad-4769-8c92-a6c4dae69d19",
        "_uuid": "8f2839f25d086af736a60e9eeb907d3b93b6e0e5",
        "execution": {
          "iopub.status.busy": "2023-11-08T03:44:11.359313Z",
          "iopub.execute_input": "2023-11-08T03:44:11.359858Z",
          "iopub.status.idle": "2023-11-08T03:44:13.112684Z",
          "shell.execute_reply.started": "2023-11-08T03:44:11.359820Z",
          "shell.execute_reply": "2023-11-08T03:44:13.111269Z"
        },
        "trusted": true,
        "id": "mSPMho4-DNRM"
      },
      "execution_count": null,
      "outputs": []
    },
    {
      "cell_type": "code",
      "source": [
        "train = pd.read_csv(\"/content/sample_data/train.csv\")\n",
        "test = pd.read_csv(\"/content/sample_data/test.csv\")"
      ],
      "metadata": {
        "_cell_guid": "79c7e3d0-c299-4dcb-8224-4455121ee9b0",
        "_uuid": "d629ff2d2480ee46fbb7e2d37f6b5fab8052498a",
        "execution": {
          "iopub.status.busy": "2023-11-08T03:44:40.362087Z",
          "iopub.execute_input": "2023-11-08T03:44:40.362450Z",
          "iopub.status.idle": "2023-11-08T03:44:40.435254Z",
          "shell.execute_reply.started": "2023-11-08T03:44:40.362414Z",
          "shell.execute_reply": "2023-11-08T03:44:40.434272Z"
        },
        "trusted": true,
        "id": "IyCyDiWIDNRP"
      },
      "execution_count": null,
      "outputs": []
    },
    {
      "cell_type": "code",
      "source": [
        "train.info()\n",
        "train[0:10]"
      ],
      "metadata": {
        "execution": {
          "iopub.status.busy": "2023-11-08T03:44:44.004141Z",
          "iopub.execute_input": "2023-11-08T03:44:44.004668Z",
          "iopub.status.idle": "2023-11-08T03:44:44.070849Z",
          "shell.execute_reply.started": "2023-11-08T03:44:44.004622Z",
          "shell.execute_reply": "2023-11-08T03:44:44.070089Z"
        },
        "trusted": true,
        "id": "UDL5POIuDNRP"
      },
      "execution_count": null,
      "outputs": []
    },
    {
      "cell_type": "markdown",
      "source": [
        "Group the Choice and A_follower_count, then get the max, min, and mean of A_posts"
      ],
      "metadata": {
        "id": "06VfymvZDNRP"
      }
    },
    {
      "cell_type": "code",
      "source": [
        "display(train[[\"Choice\",\"A_follower_count\",\"A_posts\",]].groupby([\"Choice\",\"A_follower_count\"]).agg([\"min\",'mean',\"max\"]).style.background_gradient(cmap=\"autumn\"))"
      ],
      "metadata": {
        "trusted": true,
        "id": "ZOVOD02kDNRQ"
      },
      "execution_count": null,
      "outputs": []
    },
    {
      "cell_type": "code",
      "source": [
        "test.info()\n",
        "test[0:10]"
      ],
      "metadata": {
        "trusted": true,
        "id": "6P0oe3XIDNRQ"
      },
      "execution_count": null,
      "outputs": []
    },
    {
      "cell_type": "code",
      "source": [
        "print(\"Any missing sample in training set:\",train.isnull().values.any())\n",
        "print(\"Any missing sample in test set:\",test.isnull().values.any(), \"\\n\")"
      ],
      "metadata": {
        "trusted": true,
        "id": "uCng-qsEDNRR"
      },
      "execution_count": null,
      "outputs": []
    },
    {
      "cell_type": "code",
      "source": [
        "#Frequency distribution of classes\"\n",
        "train_outcome = pd.crosstab(index=train[\"Choice\"],  # Make a crosstab\n",
        "                              columns=\"count\")      # Name the count column\n",
        "\n",
        "train_outcome"
      ],
      "metadata": {
        "trusted": true,
        "id": "8ZIYZA4xDNRR"
      },
      "execution_count": null,
      "outputs": []
    },
    {
      "cell_type": "code",
      "source": [
        "#Select feature column names and target variable we are going to use for training\n",
        "features=['A_follower_count','A_listed_count','A_mentions_received','A_retweets_received','A_posts','A_network_feature_1','A_network_feature_2','A_network_feature_3','B_follower_count','B_following_count','B_listed_count','B_mentions_received','B_retweets_received','B_posts','B_network_feature_1','B_network_feature_2','B_network_feature_3']\n",
        "target = 'Choice'"
      ],
      "metadata": {
        "trusted": true,
        "id": "bm65fKIODNRR"
      },
      "execution_count": null,
      "outputs": []
    },
    {
      "cell_type": "code",
      "source": [
        "#This is input which our classifier will use as an input.\n",
        "train[features].head(10)"
      ],
      "metadata": {
        "trusted": true,
        "id": "i5YNVr96DNRR"
      },
      "execution_count": null,
      "outputs": []
    },
    {
      "cell_type": "code",
      "source": [
        "#Display first 10 target variables\n",
        "train[target].head(10).values"
      ],
      "metadata": {
        "trusted": true,
        "id": "G4QjRjIrDNRR"
      },
      "execution_count": null,
      "outputs": []
    },
    {
      "cell_type": "code",
      "source": [
        "from sklearn.ensemble import RandomForestClassifier\n",
        "\n",
        "# We define the model\n",
        "rfcla = RandomForestClassifier(n_estimators=100,random_state=168,n_jobs=-1)\n",
        "\n",
        "# We train model\n",
        "rfcla.fit(train[features],train[target])\n",
        "\n"
      ],
      "metadata": {
        "trusted": true,
        "id": "c-MK4dGGDNRS"
      },
      "execution_count": null,
      "outputs": []
    },
    {
      "cell_type": "code",
      "source": [
        "#Make predictions using the features from the test data set\n",
        "predictions = rfcla .predict(test[features])\n",
        "\n",
        "#Display our predictions\n",
        "predictions"
      ],
      "metadata": {
        "trusted": true,
        "id": "IF4rLWziDNRS"
      },
      "execution_count": null,
      "outputs": []
    },
    {
      "cell_type": "code",
      "source": [
        "#Create a  DataFrame\n",
        "submission = pd.DataFrame({\"Id\": list(range(1,len(predictions)+1)),\n",
        "                         \"Choice\":predictions})\n",
        "\n",
        "#Visualize the first 5 rows\n",
        "submission.head()"
      ],
      "metadata": {
        "trusted": true,
        "id": "T297vI6dDNRS"
      },
      "execution_count": null,
      "outputs": []
    },
    {
      "cell_type": "code",
      "source": [
        "#Convert DataFrame to a csv file that can be uploaded\n",
        "#This is saved in the same directory as your notebook\n",
        "filename = 'submission.csv'\n",
        "\n",
        "submission.to_csv(filename,index=False)\n",
        "\n",
        "print('Saved file: ' + filename)"
      ],
      "metadata": {
        "trusted": true,
        "id": "ApSz3IyCDNRS"
      },
      "execution_count": null,
      "outputs": []
    }
  ]
}